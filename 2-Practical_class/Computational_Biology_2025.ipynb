{
  "cells": [
    {
      "cell_type": "markdown",
      "id": "XpfPvxJag_b4",
      "metadata": {
        "id": "XpfPvxJag_b4"
      },
      "source": [
        "# Digital images as arrays of numbers"
      ]
    },
    {
      "cell_type": "markdown",
      "id": "VRLhauKEhDLX",
      "metadata": {
        "id": "VRLhauKEhDLX"
      },
      "source": [
        "Digital images are composed of pixels. In a grayscale image, each pixel is coded by 1 byte or 8 bits. However, in a color image (RGB image), each pixel is coded by 3 bytes or 24 bits as the stack of 3 color channels (Red, Green and Blue). Each color channel (R/G/B in color image or black/while in grayscale image) has integer values from 0 to 255 (in total, 256 values = 2^8)."
      ]
    },
    {
      "cell_type": "markdown",
      "id": "3IqOph0PgzC8",
      "metadata": {
        "id": "3IqOph0PgzC8"
      },
      "source": [
        "**Exercise 1.1**\n",
        "1.   Open a black & white image file (checkerboard_bw.png), using the function `cv2.imread()`. Next, you can visualize the image using `plt.imshow()`, then you `print()` this image to see the image structure as an array.  \n",
        "2.   Continue working with \"checkerboard_bw.png\": Change the 4 middle pixel values from Black (0) to White (255) given that the image size is 18 x 18 pixels. Visualize the new image to see if you are successful.\n",
        "\n",
        "\n",
        "\n",
        "\n"
      ]
    },
    {
      "cell_type": "code",
      "execution_count": null,
      "id": "o9jMj5WaiccI",
      "metadata": {
        "colab": {
          "base_uri": "https://localhost:8080/",
          "height": 1000
        },
        "id": "o9jMj5WaiccI",
        "outputId": "41aabf90-725c-4597-bf5b-c68165db5ab7"
      },
      "outputs": [],
      "source": [
        "import cv2\n",
        "import numpy as np\n",
        "import matplotlib.pyplot as plt\n",
        "from google.colab import files\n",
        "\n",
        "# Upload the image file to Colab\n",
        "uploaded = files.upload()\n",
        "bw = cv2.imread(\"checkerboard_bw.png\")\n",
        "\n",
        "# Visualize the image\n",
        "plt.figure(figsize=(6,6))\n",
        "plt.imshow(bw)\n",
        "plt.axis(\"off\")\n",
        "plt.show()\n",
        "\n",
        "# Continue to write your code here"
      ]
    },
    {
      "cell_type": "markdown",
      "id": "jVXouoxqqiMc",
      "metadata": {
        "id": "jVXouoxqqiMc"
      },
      "source": [
        "**Exercise 1.2**\n",
        "1.   Open a color image file (checkerboard_color.png), check the image structure as an array and visualize it. Is it different from the original image?  \n",
        "2.   OpenCV uses the BGR format as default, while our original image is RGB. Therefore, we need to convert the format to see the right color.\n",
        "\n",
        "\n",
        "\n",
        "\n"
      ]
    },
    {
      "cell_type": "code",
      "execution_count": null,
      "id": "j4NLdtCGj6gk",
      "metadata": {
        "colab": {
          "base_uri": "https://localhost:8080/",
          "height": 1000
        },
        "id": "j4NLdtCGj6gk",
        "outputId": "a4154a28-275d-4cdf-8b60-23cee383d997"
      },
      "outputs": [],
      "source": [
        "import cv2\n",
        "import numpy as np\n",
        "import matplotlib.pyplot as plt\n",
        "from google.colab import files\n",
        "\n",
        "# Your code here"
      ]
    },
    {
      "cell_type": "markdown",
      "id": "wPBfHYkCtnHg",
      "metadata": {
        "id": "wPBfHYkCtnHg"
      },
      "source": [
        "Conversion is often used to reduce the complexity of the image (dimension reduction) when color images are converted to grayscale or binary images (only black and white, no gray). In this case, it helps to minimize the computer power required and some algorithms only work on grayscale/binary images."
      ]
    },
    {
      "cell_type": "markdown",
      "id": "LOeOiRivuzrX",
      "metadata": {
        "id": "LOeOiRivuzrX"
      },
      "source": [
        "# Image processing is a procedure including various steps"
      ]
    },
    {
      "cell_type": "markdown",
      "id": "4SQq3FF4v3YJ",
      "metadata": {
        "id": "4SQq3FF4v3YJ"
      },
      "source": [
        "When I mentioned \"steps\" in image processing, it also means \"algorithms/techniques\" applied to a digital image to improve its quality, prepare it for further analysis and extract useful information. A typical process treats the image as a two-dimensional signal or a matrix (conversion from a color to black-white image) and performs various operations like noise reduction, contrast adjustments, segmentation, and feature detection. In our class today, you will learn some important techniques via a mini project: Nuclei counting example in histology image."
      ]
    },
    {
      "cell_type": "markdown",
      "id": "l0U2MdBEzeR3",
      "metadata": {
        "id": "l0U2MdBEzeR3"
      },
      "source": [
        "We an image of stained animal tissue, where the dark pink/purple dots are nuclei. We have to quantify the number of nuclei in the image. Our plan to do this task:\n",
        "\n",
        "*   STEP 1: Load the image\n",
        "*   STEP 2 (preprocessing): Reduce dimensions of the image (convert color to grayscale) and reduce noise (Gaussian blur)\n",
        "*   STEP 3 (main analysis): Thresholding for object detection (object here is the nucleus)\n",
        "*   STEP 4 (postprocessing): Invert the binary image (result of the previous step) to make it easier to see\n",
        "*   STEP 5 (postprocessing): Morphological operations to remove small noises\n",
        "*   STEP 6 (further analysis): Count nuclei (find connected components in the processed image)\n",
        "*   STEP 7: Visualize segmentation to double-check the results\n",
        "\n",
        "\n",
        "\n",
        "\n",
        "\n",
        "\n",
        "\n",
        "\n"
      ]
    },
    {
      "cell_type": "markdown",
      "id": "CXPB6yWjx-IT",
      "metadata": {
        "id": "CXPB6yWjx-IT"
      },
      "source": [
        "First, let's revisit some codes from the previous part of our class."
      ]
    },
    {
      "cell_type": "markdown",
      "id": "7L8xmNAfyMSg",
      "metadata": {
        "id": "7L8xmNAfyMSg"
      },
      "source": [
        "**Exercise 2 (STEP 1)**\n",
        "\n",
        " Open the image file (\"cell_cropped.png\"). Visualize it (remember to convert BGR-RGB for plotting).\n",
        "\n",
        "\n",
        "\n",
        "\n",
        "\n",
        "\n",
        "\n"
      ]
    },
    {
      "cell_type": "code",
      "execution_count": null,
      "id": "VvcHJ-ksQJDr",
      "metadata": {
        "colab": {
          "base_uri": "https://localhost:8080/",
          "height": 506
        },
        "id": "VvcHJ-ksQJDr",
        "outputId": "cb6becd6-93f3-41c7-b518-9810d5b95c51"
      },
      "outputs": [],
      "source": [
        "import cv2\n",
        "import numpy as np\n",
        "import matplotlib.pyplot as plt\n",
        "from google.colab import files\n",
        "\n",
        "# ---- STEP 1: Load the image ----\n",
        "# Your code here"
      ]
    },
    {
      "cell_type": "markdown",
      "id": "O4_HdADT6kIR",
      "metadata": {
        "id": "O4_HdADT6kIR"
      },
      "source": [
        "**Exercise 3 (STEP 2)**\n",
        "\n",
        "1.   Convert the image to grayscale.\n",
        "2.   As the image contains salt-and-pepper noise, apply median blur (kernel size = 3x3), a method suitable to reduce this kind of noise.\n",
        "\n",
        "\n",
        "\n",
        "\n",
        "\n",
        "\n"
      ]
    },
    {
      "cell_type": "markdown",
      "id": "-JO0sO2bHxWm",
      "metadata": {
        "id": "-JO0sO2bHxWm"
      },
      "source": [
        "Image blurring (also called smoothing or filtering) helps to reduce noise, thus we can get better information about the main structures in the image. To perform image blurring, we transform the original image (the original array) by scanning a filter or kernel (also an array) throughout the original image. This process is called convolution. Convolution and filtering are quickly explained in this 5-minute YouTube video: https://www.youtube.com/watch?v=6v8dNtknOSM.     \n"
      ]
    },
    {
      "cell_type": "markdown",
      "id": "CYmGYojFTut5",
      "metadata": {
        "id": "CYmGYojFTut5"
      },
      "source": [
        "Let's try to write a median blurring algorithm. Hints: The algorithm involves scanning a filter (kernel) over the image and transforming each pixel. To accomplish this:\n",
        "1.   Determine the image dimensions (height and width).\n",
        "2.   Create an empty image (array) to store the output.\n",
        "3.   Iterate through each pixel, excluding the borders, and apply the transformation (in our case, assign the median value).\n",
        "\n",
        "\n",
        "\n",
        "\n",
        "\n",
        "    \n",
        "\n",
        "    "
      ]
    },
    {
      "cell_type": "markdown",
      "id": "Qd7PC1x_Xfbu",
      "metadata": {
        "id": "Qd7PC1x_Xfbu"
      },
      "source": [
        "Plan B: If you're short on time, don't worry. You can simply try the built-in function from OpenCV, `cv2.medianBlur()`."
      ]
    },
    {
      "cell_type": "code",
      "execution_count": null,
      "id": "g0WDDRCPYb0a",
      "metadata": {
        "colab": {
          "base_uri": "https://localhost:8080/",
          "height": 877
        },
        "id": "g0WDDRCPYb0a",
        "outputId": "49afa174-3616-4df5-8da4-14ecd1d82a1b"
      },
      "outputs": [],
      "source": [
        "# ---- STEP 2: Convert to grayscale ----\n",
        "# Your code here"
      ]
    },
    {
      "cell_type": "code",
      "execution_count": null,
      "id": "8HXFW0BwZXpn",
      "metadata": {
        "colab": {
          "base_uri": "https://localhost:8080/",
          "height": 447
        },
        "id": "8HXFW0BwZXpn",
        "outputId": "74bdcd47-f751-4c3b-80fb-418f406ba503"
      },
      "outputs": [],
      "source": [
        "# Manual blurring (if you want to implement it yourself)"
      ]
    },
    {
      "cell_type": "markdown",
      "id": "Xi7JgtHs7R9v",
      "metadata": {
        "id": "Xi7JgtHs7R9v"
      },
      "source": [
        "**Exercise 4 (STEP 3)**\n",
        "\n",
        "1.   Perform thresholding using a random value.\n",
        "2.   Perform thresholding using a specific value.\n",
        "\n",
        "\n",
        "\n",
        "\n",
        "\n",
        "\n"
      ]
    },
    {
      "cell_type": "code",
      "execution_count": null,
      "id": "oQj4goIgYs04",
      "metadata": {
        "colab": {
          "base_uri": "https://localhost:8080/",
          "height": 902
        },
        "id": "oQj4goIgYs04",
        "outputId": "9223b798-622c-4d51-c5d2-9c74e88f0565"
      },
      "outputs": [],
      "source": [
        "# ---- STEP 3: Thresholding ----\n",
        "# Your code here"
      ]
    },
    {
      "cell_type": "markdown",
      "id": "V1PMtv5s81_p",
      "metadata": {
        "id": "V1PMtv5s81_p"
      },
      "source": [
        "**Exercise 5 (STEP 4)**\n",
        "\n",
        "Invert the image from STEP 3 (now nuclei should be white)\n",
        "\n",
        "\n",
        "\n",
        "\n",
        "\n",
        "\n"
      ]
    },
    {
      "cell_type": "code",
      "execution_count": null,
      "id": "B3VAlY0pY0a1",
      "metadata": {
        "colab": {
          "base_uri": "https://localhost:8080/",
          "height": 447
        },
        "id": "B3VAlY0pY0a1",
        "outputId": "b13fa865-721f-48c5-b8da-e5c4b12b2a9a"
      },
      "outputs": [],
      "source": [
        "# ---- STEP 4: Invert (nuclei should be white) ----\n",
        "# Your code here"
      ]
    },
    {
      "cell_type": "code",
      "execution_count": null,
      "id": "R-lYFhYOY7mv",
      "metadata": {
        "colab": {
          "base_uri": "https://localhost:8080/",
          "height": 447
        },
        "id": "R-lYFhYOY7mv",
        "outputId": "6e186992-257b-4c86-c7a2-8a6cfa26b692"
      },
      "outputs": [],
      "source": [
        "# ---- STEP 5: Morphological operations ----\n",
        "# Your code here"
      ]
    },
    {
      "cell_type": "code",
      "execution_count": null,
      "id": "X8M_owZqZCoP",
      "metadata": {
        "colab": {
          "base_uri": "https://localhost:8080/"
        },
        "id": "X8M_owZqZCoP",
        "outputId": "ef2631a4-c98d-48e8-a510-df9d7e81131d"
      },
      "outputs": [],
      "source": [
        "# ---- STEP 6: Find connected components (count nuclei) ----\n",
        "# Your code here"
      ]
    },
    {
      "cell_type": "code",
      "execution_count": null,
      "id": "0HNag6gCZF0X",
      "metadata": {
        "colab": {
          "base_uri": "https://localhost:8080/",
          "height": 447
        },
        "id": "0HNag6gCZF0X",
        "outputId": "528d95b1-7a81-4652-b112-54e6696c123b"
      },
      "outputs": [],
      "source": [
        "# ---- STEP 7: Visualize segmentation ----\n",
        "# Your code here"
      ]
    }
  ],
  "metadata": {
    "colab": {
      "provenance": []
    },
    "kernelspec": {
      "display_name": "Python 3",
      "name": "python3"
    },
    "language_info": {
      "name": "python"
    }
  },
  "nbformat": 4,
  "nbformat_minor": 5
}
